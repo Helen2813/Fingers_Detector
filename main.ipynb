{
 "cells": [
  {
   "cell_type": "code",
   "execution_count": 3,
   "id": "ca808669-5d75-46af-b216-f7029848486c",
   "metadata": {},
   "outputs": [],
   "source": [
    "import cv2"
   ]
  },
  {
   "cell_type": "code",
   "execution_count": 3,
   "id": "e0a02f64-6eb8-4d3d-aed5-2a31bd60dade",
   "metadata": {},
   "outputs": [],
   "source": [
    "import numpy as np"
   ]
  },
  {
   "cell_type": "code",
   "execution_count": null,
   "id": "e7db738b-f689-4d90-ac0f-f0f4a494ea1c",
   "metadata": {},
   "outputs": [],
   "source": [
    "from sklearn.metrics import pairwise\n",
    "\n"
   ]
  },
  {
   "cell_type": "code",
   "execution_count": null,
   "id": "b86ab4f5-3cf0-4fea-9461-af0c8bae6cde",
   "metadata": {},
   "outputs": [],
   "source": [
    "background = None\n",
    "\n",
    "accumulated_weight = 0.5\n",
    "\n",
    "roi_top = 20\n",
    "roi_bottom = 300\n",
    "roi_right = 300\n",
    "roi_left = 600"
   ]
  },
  {
   "cell_type": "code",
   "execution_count": null,
   "id": "9cb9e154-f8cb-43bc-884e-e912e5216c2e",
   "metadata": {},
   "outputs": [],
   "source": [
    "def calc_acuum_avg(frame,accumulated_weight):\n",
    "    global background\n",
    "\n",
    "    if background is None:\n",
    "        background = frame.copy().astype('float')\n",
    "        return None\n",
    "\n",
    "    cv2.accumulateWeighted(frame,background,accumulated_weight)"
   ]
  },
  {
   "cell_type": "code",
   "execution_count": 11,
   "id": "bc2f8a2c-ff16-4407-9cbf-2a6f7da7bde7",
   "metadata": {},
   "outputs": [],
   "source": [
    "def segment(frame, threshold=25):\n",
    "    diff = cv2.absdiff(background.astype('uint8'), frame)\n",
    "\n",
    "    ret,tresholded = cv2.threshold(diff, threshold_min, 255, cv2.THRESH_BINARY)\n",
    "\n",
    "    image,contours,hierarchy = cv2.findContours(thresholded.copy(), cv2.RETR_EXTERNAL, cv2.CHAIN_APPROX_SIMPLE)\n",
    "\n",
    "    if len(contours) == 0:\n",
    "        return None\n",
    "\n",
    "    else:\n",
    "        # Assuming the largest external contour in roi is the hand\n",
    "        hand_segment = max(contours,key=cv2.contourArea)\n",
    "\n",
    "        return (trheshold, hand_segment)"
   ]
  },
  {
   "cell_type": "code",
   "execution_count": null,
   "id": "cda26d9b-d994-4a6c-bbe2-d9fe254c6d6d",
   "metadata": {},
   "outputs": [],
   "source": [
    "def count_fingers(threshold, hand_segment):\n",
    "    conv_hull = cv2.convexHull(hand_segment)\n",
    "\n",
    "    # Top\n",
    "    top = tuple(conv_hull[conv_hull[:, :, 1].argmin()][0])\n",
    "    bottom = tuple(conv_hull[conv_hull[:, :, 1].argmax()][0])\n",
    "    left = tuple(conv_hull[conv_hull[:, :, 0].argmin()][0])\n",
    "    right = tuple(conv_hull[conv_hull[:, :, 0].argmax()][0])\n",
    "\n",
    "    cX = (left[0] + right[0]) // 2\n",
    "    cY = (top[1] + bottom[1]) // 2\n",
    "\n",
    "    distance = pairwise.euclidean_distances([[cX, cY]], [[left[0], left[1]], [right[0], right[1]], [top[0], top[1]], [bottom[0], bottom[1]]])[0]\n",
    "\n",
    "    max_distance = distance.max()\n",
    "\n",
    "    radius = int(0.9 * max_distance)\n",
    "    circumfrence = (2 * np.pi * radius)\n",
    "\n",
    "    circular_roi = np.zeros(threshold.shape[:2], dtype='uint8')\n",
    "    cv2.circle(circular_roi, (cX, cY), radius, 255, 10)\n",
    "\n",
    "    circular_roi = cv2.bitwise_and(threshold, threshold, mask=circular_roi)\n",
    "\n",
    "    contours, hierarchy = cv2.findContours(circular_roi.copy(), cv2.RETR_EXTERNAL, cv2.CHAIN_APPROX_NONE)\n",
    "\n",
    "    count = 0\n",
    "\n",
    "    for cnt in contours:\n",
    "        (x, y, w, h) = cv2.boundingRect(cnt)\n",
    "        out_of_wrist = (cY + (cY * 0.25)) > (y + h)\n",
    "        limit_points = ((circumfrence * 0.25) > cnt.shape[0])\n",
    "\n",
    "        if out_of_wrist and limit_points:\n",
    "            count += 1\n",
    "\n",
    "    return count\n",
    "    "
   ]
  }
 ],
 "metadata": {
  "kernelspec": {
   "display_name": "Python 3 (ipykernel)",
   "language": "python",
   "name": "python3"
  },
  "language_info": {
   "codemirror_mode": {
    "name": "ipython",
    "version": 3
   },
   "file_extension": ".py",
   "mimetype": "text/x-python",
   "name": "python",
   "nbconvert_exporter": "python",
   "pygments_lexer": "ipython3",
   "version": "3.12.4"
  }
 },
 "nbformat": 4,
 "nbformat_minor": 5
}
